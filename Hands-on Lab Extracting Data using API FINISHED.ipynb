{
 "cells": [
  {
   "cell_type": "markdown",
   "metadata": {},
   "source": [
    "<p style=\"text-align:center\">\n",
    "    <a href=\"https://skills.network/?utm_medium=Exinfluencer&utm_source=Exinfluencer&utm_content=000026UJ&utm_term=10006555&utm_id=NA-SkillsNetwork-Channel-SkillsNetworkCoursesIBMDeveloperSkillsNetworkPY0221ENSkillsNetwork23455645-2022-01-01\" target=\"_blank\">\n",
    "    <img src=\"https://cf-courses-data.s3.us.cloud-object-storage.appdomain.cloud/assets/logos/SN_web_lightmode.png\" width=\"200\" alt=\"Skills Network Logo\"  />\n",
    "    </a>\n",
    "</p>\n"
   ]
  },
  {
   "cell_type": "markdown",
   "metadata": {},
   "source": [
    "# Peer Review Assignment - Data Engineer - Extract API Data\n"
   ]
  },
  {
   "cell_type": "markdown",
   "metadata": {},
   "source": [
    "Estimated time needed: **20** minutes\n"
   ]
  },
  {
   "cell_type": "markdown",
   "metadata": {},
   "source": [
    "## Objectives\n",
    "\n",
    "In this part you will:\n",
    "\n",
    "*   Collect exchange rate data using an API\n",
    "*   Store the data as a CSV\n"
   ]
  },
  {
   "cell_type": "markdown",
   "metadata": {},
   "source": [
    "For this lab, we are going to be using Python and several Python libraries. Some of these libraries might be installed in your lab environment or in SN Labs. Others may need to be installed by you. The cells below will install these libraries when executed.\n"
   ]
  },
  {
   "cell_type": "code",
   "execution_count": null,
   "metadata": {},
   "outputs": [],
   "source": [
    "#!mamba install pandas==1.3.3 -y\n",
    "#!mamba install requests==2.26.0 -y"
   ]
  },
  {
   "cell_type": "markdown",
   "metadata": {},
   "source": [
    "## Imports\n",
    "\n",
    "Import any additional libraries you may need here.\n"
   ]
  },
  {
   "cell_type": "code",
   "execution_count": 1,
   "metadata": {},
   "outputs": [],
   "source": [
    "import requests\n",
    "import pandas as pd"
   ]
  },
  {
   "cell_type": "markdown",
   "metadata": {},
   "source": [
    "## Extract Data Using an API\n"
   ]
  },
  {
   "cell_type": "markdown",
   "metadata": {},
   "source": [
    "Using ExchangeRate-API we will extract currency exchange rate data. Use the below steps to get the access key and to get the data.\n",
    "\n",
    "1.  Open the url : [https://exchangeratesapi.io/](https://exchangeratesapi.io/?utm_medium=Exinfluencer&utm_source=Exinfluencer&utm_content=000026UJ&utm_term=10006555&utm_id=NA-SkillsNetwork-Channel-SkillsNetworkCoursesIBMDeveloperSkillsNetworkPY0221ENSkillsNetwork23455645-2022-01-01) and click on **Get Free API Key**.\n",
    "2.  Subscribe for Free plan and Sign-in with the Google Account.\n",
    "3.  Once the account is created you will be redirected to [https://apilayer.com](https://apilayer.com/?utm_medium=Exinfluencer&utm_source=Exinfluencer&utm_content=000026UJ&utm_term=10006555&utm_id=NA-SkillsNetwork-Channel-SkillsNetworkCoursesIBMDeveloperSkillsNetworkPY0221ENSkillsNetwork23455645-2022-01-01) website.\n",
    "4.  Now, click on the **user icon** and click **Account** as shown below:\n",
    "\n",
    "<img src=\"https://cf-courses-data.s3.us.cloud-object-storage.appdomain.cloud/IBMDeveloperSkillsNetwork-PY0221EN-SkillsNetwork/labs/module%206/Final%20Assignment/Images/account.png\"/>\n",
    "\n",
    "3.  Scroll down and you will get the API Key section. Copy the API key and use in the url in Question 1.\n"
   ]
  },
  {
   "cell_type": "markdown",
   "metadata": {},
   "source": [
    "### Call the API\n",
    "\n",
    "<b> Question 1</b> Using the `requests` library call the endpoint given above and save the text, remember the first few characters of the output:\n"
   ]
  },
  {
   "cell_type": "code",
   "execution_count": 2,
   "metadata": {},
   "outputs": [
    {
     "data": {
      "text/plain": [
       "{'success': True,\n",
       " 'timestamp': 1678910943,\n",
       " 'base': 'EUR',\n",
       " 'date': '2023-03-15',\n",
       " 'rates': {'AED': 3.886621,\n",
       "  'AFN': 93.120518,\n",
       "  'ALL': 115.237677,\n",
       "  'AMD': 410.995354,\n",
       "  'ANG': 1.909109,\n",
       "  'AOA': 537.036499,\n",
       "  'ARS': 214.367389,\n",
       "  'AUD': 1.598474,\n",
       "  'AWG': 1.904741,\n",
       "  'AZN': 1.799913,\n",
       "  'BAM': 1.956853,\n",
       "  'BBD': 2.122482,\n",
       "  'BDT': 111.716985,\n",
       "  'BGN': 1.954468,\n",
       "  'BHD': 0.39889,\n",
       "  'BIF': 2201.563217,\n",
       "  'BMD': 1.058189,\n",
       "  'BND': 1.430412,\n",
       "  'BOB': 7.314937,\n",
       "  'BRL': 5.603646,\n",
       "  'BSD': 1.05929,\n",
       "  'BTC': 4.3510604e-05,\n",
       "  'BTN': 87.66818,\n",
       "  'BWP': 14.07924,\n",
       "  'BYN': 2.674415,\n",
       "  'BYR': 20740.513848,\n",
       "  'BZD': 2.124094,\n",
       "  'CAD': 1.455825,\n",
       "  'CDF': 2171.404744,\n",
       "  'CHF': 0.986016,\n",
       "  'CLF': 0.03147,\n",
       "  'CLP': 868.353115,\n",
       "  'CNY': 7.308808,\n",
       "  'COP': 5131.160798,\n",
       "  'CRC': 577.72183,\n",
       "  'CUC': 1.058189,\n",
       "  'CUP': 28.042021,\n",
       "  'CVE': 109.257947,\n",
       "  'CZK': 24.060271,\n",
       "  'DJF': 188.061473,\n",
       "  'DKK': 7.44632,\n",
       "  'DOP': 58.041547,\n",
       "  'DZD': 144.534686,\n",
       "  'EGP': 32.696958,\n",
       "  'ERN': 15.872842,\n",
       "  'ETB': 56.941434,\n",
       "  'EUR': 1,\n",
       "  'FJD': 2.359657,\n",
       "  'FKP': 0.871173,\n",
       "  'GBP': 0.877558,\n",
       "  'GEL': 2.735387,\n",
       "  'GGP': 0.871173,\n",
       "  'GHS': 13.174012,\n",
       "  'GIP': 0.871173,\n",
       "  'GMD': 65.082693,\n",
       "  'GNF': 9142.757103,\n",
       "  'GTQ': 8.25721,\n",
       "  'GYD': 223.520291,\n",
       "  'HKD': 8.308851,\n",
       "  'HNL': 26.110797,\n",
       "  'HRK': 7.426664,\n",
       "  'HTG': 163.299456,\n",
       "  'HUF': 396.546996,\n",
       "  'IDR': 16332.784289,\n",
       "  'ILS': 3.836815,\n",
       "  'IMP': 0.871173,\n",
       "  'INR': 87.408409,\n",
       "  'IQD': 1546.014833,\n",
       "  'IRR': 44734.960151,\n",
       "  'ISK': 150.421498,\n",
       "  'JEP': 0.871173,\n",
       "  'JMD': 161.465369,\n",
       "  'JOD': 0.751215,\n",
       "  'JPY': 140.983114,\n",
       "  'KES': 137.679998,\n",
       "  'KGS': 92.504488,\n",
       "  'KHR': 4289.900551,\n",
       "  'KMF': 486.236415,\n",
       "  'KPW': 952.301744,\n",
       "  'KRW': 1392.016276,\n",
       "  'KWD': 0.324917,\n",
       "  'KYD': 0.882879,\n",
       "  'KZT': 491.416259,\n",
       "  'LAK': 17945.836128,\n",
       "  'LBP': 16137.389953,\n",
       "  'LKR': 357.565046,\n",
       "  'LRD': 170.267341,\n",
       "  'LSL': 19.480879,\n",
       "  'LTL': 3.124559,\n",
       "  'LVL': 0.640089,\n",
       "  'LYD': 5.090084,\n",
       "  'MAD': 11.040623,\n",
       "  'MDL': 19.732645,\n",
       "  'MGA': 4573.494972,\n",
       "  'MKD': 61.914594,\n",
       "  'MMK': 2224.618238,\n",
       "  'MNT': 3737.855738,\n",
       "  'MOP': 8.563208,\n",
       "  'MRO': 377.773463,\n",
       "  'MUR': 49.575274,\n",
       "  'MVR': 16.306575,\n",
       "  'MWK': 1111.098788,\n",
       "  'MXN': 20.070552,\n",
       "  'MYR': 4.744712,\n",
       "  'MZN': 66.77289,\n",
       "  'NAD': 19.481519,\n",
       "  'NGN': 486.767044,\n",
       "  'NIO': 38.687631,\n",
       "  'NOK': 11.379251,\n",
       "  'NPR': 140.276783,\n",
       "  'NZD': 1.70878,\n",
       "  'OMR': 0.407338,\n",
       "  'PAB': 1.05936,\n",
       "  'PEN': 4.024823,\n",
       "  'PGK': 3.725134,\n",
       "  'PHP': 58.14863,\n",
       "  'PKR': 299.864474,\n",
       "  'PLN': 4.700375,\n",
       "  'PYG': 7613.025131,\n",
       "  'QAR': 3.853396,\n",
       "  'RON': 4.918039,\n",
       "  'RSD': 117.284422,\n",
       "  'RUB': 42.592564,\n",
       "  'RWF': 1159.246578,\n",
       "  'SAR': 3.974344,\n",
       "  'SBD': 8.698736,\n",
       "  'SCR': 14.603789,\n",
       "  'SDG': 629.098724,\n",
       "  'SEK': 11.204523,\n",
       "  'SGD': 1.430032,\n",
       "  'SHP': 1.287552,\n",
       "  'SLE': 22.007437,\n",
       "  'SLL': 20899.241762,\n",
       "  'SOS': 601.584539,\n",
       "  'SRD': 36.838218,\n",
       "  'STD': 21902.385802,\n",
       "  'SVC': 9.269558,\n",
       "  'SYP': 2658.630964,\n",
       "  'SZL': 19.481686,\n",
       "  'THB': 36.640843,\n",
       "  'TJS': 11.567716,\n",
       "  'TMT': 3.703663,\n",
       "  'TND': 3.314514,\n",
       "  'TOP': 2.49029,\n",
       "  'TRY': 20.09481,\n",
       "  'TTD': 7.189937,\n",
       "  'TWD': 32.390968,\n",
       "  'TZS': 2478.98665,\n",
       "  'UAH': 38.92714,\n",
       "  'UGX': 3967.172489,\n",
       "  'USD': 1.058189,\n",
       "  'UYU': 41.682432,\n",
       "  'UZS': 12126.851248,\n",
       "  'VEF': 2546202.173436,\n",
       "  'VES': 25.365119,\n",
       "  'VND': 24949.462513,\n",
       "  'VUV': 126.007525,\n",
       "  'WST': 2.882861,\n",
       "  'XAF': 656.393568,\n",
       "  'XAG': 0.048674,\n",
       "  'XAU': 0.000552,\n",
       "  'XCD': 2.85981,\n",
       "  'XDR': 0.798252,\n",
       "  'XOF': 647.084941,\n",
       "  'XPF': 120.157701,\n",
       "  'YER': 264.918132,\n",
       "  'ZAR': 19.536188,\n",
       "  'ZMK': 9524.975613,\n",
       "  'ZMW': 21.733826,\n",
       "  'ZWL': 340.736581}}"
      ]
     },
     "execution_count": 2,
     "metadata": {},
     "output_type": "execute_result"
    }
   ],
   "source": [
    "# Write your code here\n",
    "url = \"https://api.apilayer.com/exchangerates_data/latest?base=EUR&apikey=4fWFdaRHXArji634AmKZ5iOM7KHFT5zX\" #Make sure to change ******* to your API key.\n",
    "response = requests.get(url)\n",
    "response.json()"
   ]
  },
  {
   "cell_type": "markdown",
   "metadata": {},
   "source": [
    "### Save as DataFrame\n",
    "\n",
    "<b> Question 2</b>  Using the data gathered turn it into a `pandas` dataframe. The dataframe should have the Currency as the index and `Rate` as their columns. Make sure to drop unnecessary columns.\n"
   ]
  },
  {
   "cell_type": "code",
   "execution_count": 3,
   "metadata": {},
   "outputs": [
    {
     "data": {
      "text/html": [
       "<div>\n",
       "<style scoped>\n",
       "    .dataframe tbody tr th:only-of-type {\n",
       "        vertical-align: middle;\n",
       "    }\n",
       "\n",
       "    .dataframe tbody tr th {\n",
       "        vertical-align: top;\n",
       "    }\n",
       "\n",
       "    .dataframe thead th {\n",
       "        text-align: right;\n",
       "    }\n",
       "</style>\n",
       "<table border=\"1\" class=\"dataframe\">\n",
       "  <thead>\n",
       "    <tr style=\"text-align: right;\">\n",
       "      <th></th>\n",
       "      <th>success</th>\n",
       "      <th>timestamp</th>\n",
       "      <th>base</th>\n",
       "      <th>date</th>\n",
       "      <th>rates</th>\n",
       "    </tr>\n",
       "  </thead>\n",
       "  <tbody>\n",
       "    <tr>\n",
       "      <th>AED</th>\n",
       "      <td>True</td>\n",
       "      <td>1678910943</td>\n",
       "      <td>EUR</td>\n",
       "      <td>2023-03-15</td>\n",
       "      <td>3.886621</td>\n",
       "    </tr>\n",
       "    <tr>\n",
       "      <th>AFN</th>\n",
       "      <td>True</td>\n",
       "      <td>1678910943</td>\n",
       "      <td>EUR</td>\n",
       "      <td>2023-03-15</td>\n",
       "      <td>93.120518</td>\n",
       "    </tr>\n",
       "    <tr>\n",
       "      <th>ALL</th>\n",
       "      <td>True</td>\n",
       "      <td>1678910943</td>\n",
       "      <td>EUR</td>\n",
       "      <td>2023-03-15</td>\n",
       "      <td>115.237677</td>\n",
       "    </tr>\n",
       "    <tr>\n",
       "      <th>AMD</th>\n",
       "      <td>True</td>\n",
       "      <td>1678910943</td>\n",
       "      <td>EUR</td>\n",
       "      <td>2023-03-15</td>\n",
       "      <td>410.995354</td>\n",
       "    </tr>\n",
       "    <tr>\n",
       "      <th>ANG</th>\n",
       "      <td>True</td>\n",
       "      <td>1678910943</td>\n",
       "      <td>EUR</td>\n",
       "      <td>2023-03-15</td>\n",
       "      <td>1.909109</td>\n",
       "    </tr>\n",
       "    <tr>\n",
       "      <th>...</th>\n",
       "      <td>...</td>\n",
       "      <td>...</td>\n",
       "      <td>...</td>\n",
       "      <td>...</td>\n",
       "      <td>...</td>\n",
       "    </tr>\n",
       "    <tr>\n",
       "      <th>YER</th>\n",
       "      <td>True</td>\n",
       "      <td>1678910943</td>\n",
       "      <td>EUR</td>\n",
       "      <td>2023-03-15</td>\n",
       "      <td>264.918132</td>\n",
       "    </tr>\n",
       "    <tr>\n",
       "      <th>ZAR</th>\n",
       "      <td>True</td>\n",
       "      <td>1678910943</td>\n",
       "      <td>EUR</td>\n",
       "      <td>2023-03-15</td>\n",
       "      <td>19.536188</td>\n",
       "    </tr>\n",
       "    <tr>\n",
       "      <th>ZMK</th>\n",
       "      <td>True</td>\n",
       "      <td>1678910943</td>\n",
       "      <td>EUR</td>\n",
       "      <td>2023-03-15</td>\n",
       "      <td>9524.975613</td>\n",
       "    </tr>\n",
       "    <tr>\n",
       "      <th>ZMW</th>\n",
       "      <td>True</td>\n",
       "      <td>1678910943</td>\n",
       "      <td>EUR</td>\n",
       "      <td>2023-03-15</td>\n",
       "      <td>21.733826</td>\n",
       "    </tr>\n",
       "    <tr>\n",
       "      <th>ZWL</th>\n",
       "      <td>True</td>\n",
       "      <td>1678910943</td>\n",
       "      <td>EUR</td>\n",
       "      <td>2023-03-15</td>\n",
       "      <td>340.736581</td>\n",
       "    </tr>\n",
       "  </tbody>\n",
       "</table>\n",
       "<p>170 rows × 5 columns</p>\n",
       "</div>"
      ],
      "text/plain": [
       "     success   timestamp base        date        rates\n",
       "AED     True  1678910943  EUR  2023-03-15     3.886621\n",
       "AFN     True  1678910943  EUR  2023-03-15    93.120518\n",
       "ALL     True  1678910943  EUR  2023-03-15   115.237677\n",
       "AMD     True  1678910943  EUR  2023-03-15   410.995354\n",
       "ANG     True  1678910943  EUR  2023-03-15     1.909109\n",
       "..       ...         ...  ...         ...          ...\n",
       "YER     True  1678910943  EUR  2023-03-15   264.918132\n",
       "ZAR     True  1678910943  EUR  2023-03-15    19.536188\n",
       "ZMK     True  1678910943  EUR  2023-03-15  9524.975613\n",
       "ZMW     True  1678910943  EUR  2023-03-15    21.733826\n",
       "ZWL     True  1678910943  EUR  2023-03-15   340.736581\n",
       "\n",
       "[170 rows x 5 columns]"
      ]
     },
     "execution_count": 3,
     "metadata": {},
     "output_type": "execute_result"
    }
   ],
   "source": [
    "# Turn the data into a dataframe\n",
    "df = pd.DataFrame(response.json())\n",
    "df"
   ]
  },
  {
   "cell_type": "code",
   "execution_count": 4,
   "metadata": {},
   "outputs": [
    {
     "data": {
      "text/html": [
       "<div>\n",
       "<style scoped>\n",
       "    .dataframe tbody tr th:only-of-type {\n",
       "        vertical-align: middle;\n",
       "    }\n",
       "\n",
       "    .dataframe tbody tr th {\n",
       "        vertical-align: top;\n",
       "    }\n",
       "\n",
       "    .dataframe thead th {\n",
       "        text-align: right;\n",
       "    }\n",
       "</style>\n",
       "<table border=\"1\" class=\"dataframe\">\n",
       "  <thead>\n",
       "    <tr style=\"text-align: right;\">\n",
       "      <th></th>\n",
       "      <th>rates</th>\n",
       "    </tr>\n",
       "  </thead>\n",
       "  <tbody>\n",
       "    <tr>\n",
       "      <th>AED</th>\n",
       "      <td>3.886621</td>\n",
       "    </tr>\n",
       "    <tr>\n",
       "      <th>AFN</th>\n",
       "      <td>93.120518</td>\n",
       "    </tr>\n",
       "    <tr>\n",
       "      <th>ALL</th>\n",
       "      <td>115.237677</td>\n",
       "    </tr>\n",
       "    <tr>\n",
       "      <th>AMD</th>\n",
       "      <td>410.995354</td>\n",
       "    </tr>\n",
       "    <tr>\n",
       "      <th>ANG</th>\n",
       "      <td>1.909109</td>\n",
       "    </tr>\n",
       "    <tr>\n",
       "      <th>...</th>\n",
       "      <td>...</td>\n",
       "    </tr>\n",
       "    <tr>\n",
       "      <th>YER</th>\n",
       "      <td>264.918132</td>\n",
       "    </tr>\n",
       "    <tr>\n",
       "      <th>ZAR</th>\n",
       "      <td>19.536188</td>\n",
       "    </tr>\n",
       "    <tr>\n",
       "      <th>ZMK</th>\n",
       "      <td>9524.975613</td>\n",
       "    </tr>\n",
       "    <tr>\n",
       "      <th>ZMW</th>\n",
       "      <td>21.733826</td>\n",
       "    </tr>\n",
       "    <tr>\n",
       "      <th>ZWL</th>\n",
       "      <td>340.736581</td>\n",
       "    </tr>\n",
       "  </tbody>\n",
       "</table>\n",
       "<p>170 rows × 1 columns</p>\n",
       "</div>"
      ],
      "text/plain": [
       "           rates\n",
       "AED     3.886621\n",
       "AFN    93.120518\n",
       "ALL   115.237677\n",
       "AMD   410.995354\n",
       "ANG     1.909109\n",
       "..           ...\n",
       "YER   264.918132\n",
       "ZAR    19.536188\n",
       "ZMK  9524.975613\n",
       "ZMW    21.733826\n",
       "ZWL   340.736581\n",
       "\n",
       "[170 rows x 1 columns]"
      ]
     },
     "execution_count": 4,
     "metadata": {},
     "output_type": "execute_result"
    }
   ],
   "source": [
    "# Drop unnescessary columns\n",
    "df.drop(columns=[\"success\", \"timestamp\", \"base\", \"date\"], inplace=True)\n",
    "df"
   ]
  },
  {
   "cell_type": "markdown",
   "metadata": {},
   "source": [
    "### Load the Data\n",
    "\n",
    "Using the dataframe save it as a CSV names `exchange_rates_1.csv`.\n"
   ]
  },
  {
   "cell_type": "code",
   "execution_count": 5,
   "metadata": {},
   "outputs": [],
   "source": [
    "# Save the Dataframe\n",
    "df.to_csv('exchange_rates_1.csv', index = True)"
   ]
  },
  {
   "cell_type": "markdown",
   "metadata": {},
   "source": [
    "Your CSV should be in this format with more currencies\n",
    "\n",
    "|     | Rates      |\n",
    "| --- | ---------- |\n",
    "| AED | 4.398618   |\n",
    "| AFN | 92.917693  |\n",
    "| ALL | 123.099093 |\n",
    "| AMD | 621.935674 |\n",
    "| ANG | 2.149648   |\n"
   ]
  },
  {
   "cell_type": "markdown",
   "metadata": {},
   "source": [
    "## Authors\n"
   ]
  },
  {
   "cell_type": "markdown",
   "metadata": {},
   "source": [
    "Ramesh Sannareddy, Joseph Santarcangelo and Azim Hirjani\n"
   ]
  },
  {
   "cell_type": "markdown",
   "metadata": {},
   "source": [
    "### Other Contributors\n"
   ]
  },
  {
   "cell_type": "markdown",
   "metadata": {},
   "source": [
    "Rav Ahuja\n"
   ]
  },
  {
   "cell_type": "markdown",
   "metadata": {},
   "source": [
    "## Change Log\n"
   ]
  },
  {
   "cell_type": "markdown",
   "metadata": {},
   "source": [
    "| Date (YYYY-MM-DD) | Version | Changed By        | Change Description                              |\n",
    "| ----------------- | ------- | ----------------- | ----------------------------------------------- |\n",
    "| 2022-05-06        | 0.3     | Malika            | Updated instructions to get the API and the url |\n",
    "| 2021-04-15        | 0.2     | Malika            | Updated the lab from USD to EUR                 |\n",
    "| 2020-11-25        | 0.1     | Ramesh Sannareddy | Created initial version of the lab              |\n"
   ]
  },
  {
   "cell_type": "markdown",
   "metadata": {},
   "source": [
    "Copyright © 2020 IBM Corporation. This notebook and its source code are released under the terms of the [MIT License](https://cognitiveclass.ai/mit-license?utm_medium=Exinfluencer&utm_source=Exinfluencer&utm_content=000026UJ&utm_term=10006555&utm_id=NA-SkillsNetwork-Channel-SkillsNetworkCoursesIBMDeveloperSkillsNetworkPY0221ENSkillsNetwork23455645-2022-01-01&cm_mmc=Email_Newsletter-\\_-Developer_Ed%2BTech-\\_-WW_WW-\\_-SkillsNetwork-Courses-IBM-DA0321EN-SkillsNetwork-21426264&cm_mmca1=000026UJ&cm_mmca2=10006555&cm_mmca3=M12345678&cvosrc=email.Newsletter.M12345678&cvo_campaign=000026UJ).\n"
   ]
  }
 ],
 "metadata": {
  "kernelspec": {
   "display_name": "Python",
   "language": "python",
   "name": "conda-env-python-py"
  },
  "language_info": {
   "codemirror_mode": {
    "name": "ipython",
    "version": 3
   },
   "file_extension": ".py",
   "mimetype": "text/x-python",
   "name": "python",
   "nbconvert_exporter": "python",
   "pygments_lexer": "ipython3",
   "version": "3.7.12"
  }
 },
 "nbformat": 4,
 "nbformat_minor": 4
}
